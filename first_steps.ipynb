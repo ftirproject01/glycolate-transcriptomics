{
  "nbformat": 4,
  "nbformat_minor": 0,
  "metadata": {
    "colab": {
      "provenance": [],
      "authorship_tag": "ABX9TyME4NpU4QjPOhEu+PcGMbHJ",
      "include_colab_link": true
    },
    "kernelspec": {
      "name": "python3",
      "display_name": "Python 3"
    },
    "language_info": {
      "name": "python"
    }
  },
  "cells": [
    {
      "cell_type": "markdown",
      "metadata": {
        "id": "view-in-github",
        "colab_type": "text"
      },
      "source": [
        "<a href=\"https://colab.research.google.com/github/ftirproject01/glycolate-transcriptomics/blob/Tensorflow/first_steps.ipynb\" target=\"_parent\"><img src=\"https://colab.research.google.com/assets/colab-badge.svg\" alt=\"Open In Colab\"/></a>"
      ]
    },
    {
      "cell_type": "code",
      "execution_count": 1,
      "metadata": {
        "colab": {
          "base_uri": "https://localhost:8080/"
        },
        "id": "I0E-P7jR7-NU",
        "outputId": "8035f64a-8aed-4b8a-bf79-fdba0db420dc"
      },
      "outputs": [
        {
          "output_type": "stream",
          "name": "stdout",
          "text": [
            "Hello, TensorFlow!\n",
            "tf.Tensor(b'Hello, TensorFlow!', shape=(), dtype=string)\n",
            "TensorFlow Version: 2.15.0\n"
          ]
        }
      ],
      "source": [
        "import tensorflow as tf\n",
        "hello = tf.constant(\"Hello, TensorFlow!\")\n",
        "tf.print(hello)\n",
        "print(hello)\n",
        "print(\"TensorFlow Version: {}\".format(tf.__version__))"
      ]
    }
  ]
}